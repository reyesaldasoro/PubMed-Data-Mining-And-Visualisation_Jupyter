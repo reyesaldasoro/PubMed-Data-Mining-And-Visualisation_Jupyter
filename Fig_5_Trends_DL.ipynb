{
 "cells": [
  {
   "cell_type": "markdown",
   "metadata": {},
   "source": [
    "### Mine PubMed for Cancer, Pathology and the techniques used in Image Processing\n"
   ]
  },
  {
   "cell_type": "markdown",
   "metadata": {},
   "source": [
    "This notebook is a small version of the similarly named notebook, which focused in cancer and other conditions,  but this one is to compare techniques used in Pathology"
   ]
  },
  {
   "cell_type": "markdown",
   "metadata": {},
   "source": [
    "#### Reference\n",
    "Reyes-Aldasoro CC (2017) The proportion of cancer-related entries in PubMed has increased considerably; is cancer truly “The Emperor of All Maladies”? PLoS ONE 12(3): e0173671. https://doi.org/10.1371/journal.pone.0173671"
   ]
  },
  {
   "cell_type": "markdown",
   "metadata": {},
   "source": [
    "First, import all the things you need to import."
   ]
  },
  {
   "cell_type": "code",
   "execution_count": 1,
   "metadata": {},
   "outputs": [],
   "source": [
    "import pandas as pd\n",
    "import numpy as np\n",
    "import matplotlib.pyplot as plt\n",
    "import urllib.request\n",
    "from urllib.error import HTTPError, URLError\n",
    "from scipy import interpolate\n",
    "from socket import timeout\n",
    "from numpy import matlib as mb\n",
    "import logging"
   ]
  },
  {
   "cell_type": "markdown",
   "metadata": {},
   "source": [
    "Then you can define the time of study, that is the years that you will be mining the data base. If you (don't) want to visualise which specific year, comment/uncomment the second line. NLTK is used to process the data per year so import if necessary."
   ]
  },
  {
   "cell_type": "code",
   "execution_count": 2,
   "metadata": {},
   "outputs": [
    {
     "name": "stderr",
     "output_type": "stream",
     "text": [
      "[nltk_data] Downloading package punkt to\n",
      "[nltk_data]     C:\\Users\\sbbk034\\AppData\\Roaming\\nltk_data...\n",
      "[nltk_data]   Package punkt is already up-to-date!\n"
     ]
    },
    {
     "data": {
      "text/plain": [
       "True"
      ]
     },
     "execution_count": 2,
     "metadata": {},
     "output_type": "execute_result"
    }
   ],
   "source": [
    "import nltk\n",
    "nltk.download('punkt')"
   ]
  },
  {
   "cell_type": "code",
   "execution_count": 3,
   "metadata": {},
   "outputs": [],
   "source": [
    "from nltk.tokenize import word_tokenize"
   ]
  },
  {
   "cell_type": "markdown",
   "metadata": {},
   "source": [
    "Here is where the problem is defined. First we need to define a basic URL. And that will be the address of PubMed with a search term. This give entry to the database MEDLINE of the United States National Library of Medicine (NLM) and its search engine PubMed (https://www.ncbi.nlm.nih.gov/pubmed) have grown to include over 26 million entries: 26,710,394 on the 30 November 2016. \n"
   ]
  },
  {
   "cell_type": "markdown",
   "metadata": {},
   "source": [
    "Then, we will define a series of keywords. In MEDLINE, each entry is indexed with Medical Subject Headings (MeSH) and various field descriptors such as author, date, title, publication type, etc. These fields allow specific searches to be performed in PubMed by restricting the search to one, several or all fields and logical combinations with operators such as AND, OR, NOT are available as well. "
   ]
  },
  {
   "cell_type": "markdown",
   "metadata": {},
   "source": [
    "Then we add the actual keywords related to the actual conditions that we want to observe. Let's do this for: **Pathology, Cancer** and **Image Analysis/Processing**."
   ]
  },
  {
   "cell_type": "code",
   "execution_count": 4,
   "metadata": {},
   "outputs": [],
   "source": [
    "#Basic keywords, to be concatenated later concatenate\n",
    "basicURL                = 'https://www.ncbi.nlm.nih.gov/pubmed/?term='\n",
    "#allF                    = '%5BAll%20Fields%5D%29' # all fields code\n",
    "\n",
    "yearsAnalysis = np.arange(2010,2023)\n",
    "KW_Pathology            =  '%20(pathology)'  \n",
    "KW_Cancer               =  '%20AND%20(cancer)'\n",
    "KW_ImageAnalysis        =  '%20AND%20+((image)+OR+(imaging))'\n",
    "KW_Dates                =  '%20AND%20('+str(yearsAnalysis[0])+':'+str(yearsAnalysis[-1])+'[dp])'\n"
   ]
  },
  {
   "cell_type": "markdown",
   "metadata": {},
   "source": [
    "Add now the particular keywords that describe the techniques used."
   ]
  },
  {
   "cell_type": "code",
   "execution_count": 6,
   "metadata": {},
   "outputs": [],
   "source": [
    "keywords=[  'Deep belief','Recurrent neural networks',\n",
    "    'Auto-Encoders',    'Multilayer perceptron',\n",
    "    'Generative adversarial network',    'Convolutional neural network',\n",
    "    'U-Net',    'Transformer',    'Fully convolutional',\n",
    "    'ResNet',    'VGG','Mask-RCNN','LSTM',\n",
    "    'GoogleNet','AlexNet','Inception-v3','DenseNet','Inception-ResNet-v2'\n",
    "  \n",
    "]\n",
    "    \n",
    "\n",
    "numKeywords = len(keywords)\n",
    "numYears    = len(yearsAnalysis)"
   ]
  },
  {
   "cell_type": "markdown",
   "metadata": {},
   "source": [
    "The spaces in the keywords will have to be replaced with %20 for the urls later on. Create a matrix where the entries obtained from the mining will be stored"
   ]
  },
  {
   "cell_type": "code",
   "execution_count": 7,
   "metadata": {},
   "outputs": [
    {
     "data": {
      "text/plain": [
       "(18, 13)"
      ]
     },
     "execution_count": 7,
     "metadata": {},
     "output_type": "execute_result"
    }
   ],
   "source": [
    "entries_per_KW = np.zeros((numKeywords,len(yearsAnalysis))) # keyword (and total) and year\n",
    "entries_per_KW.shape"
   ]
  },
  {
   "cell_type": "markdown",
   "metadata": {},
   "source": [
    "Notice the last keyword, which is actually blank. This is because we want also to retrieve all entries of a given year. Next, we concatenate all the keywords into a vector (or matrix, or whichever name is the correct in Python), and loop over the keywords. \n"
   ]
  },
  {
   "cell_type": "markdown",
   "metadata": {},
   "source": [
    "The whole record from PubMed is stored in *wholeURL*, towards the end, there is a section with the data per year in a format more or less like this:\n",
    "\n",
    "```\n",
    " timelineData: {\n",
    "        yearCounts: \"[[1985, 1], [1986, 1], [1987, 1], [1988, 1], [1989, 2], [1990, 2], [1992, 2], [1993, 4], [1994, 2], [1995, 2], [1996, 2], [1997, 2], [1998, 3], [2000, 1], [2001, 6], [2002, 2], [2004, 1], [2005, 1], [2006, 2], [2008, 2], [2009, 1], [2010, 3], [2011, 3], [2012, 1], [2013, 3], [2014, 1], [2016, 5], [2017, 4], [2018, 3], [2019, 6], [2020, 3], [2021, 0]]\",\n",
    "        startYear: null,\n",
    "        endYear: null\n",
    "      },\n",
    "```\n",
    "\n",
    "The data of interest is delimited by the words *yearCounts* and *startYear*. The list can be tokenised so that each year and number of entries are stored in a list, and the following characters (each inside a token) need to be removed ' [ ] , '.\n",
    "\n",
    "Then, the years are separated from the actual entries and stored in their corresponding location of the matrix\n"
   ]
  },
  {
   "cell_type": "code",
   "execution_count": 8,
   "metadata": {
    "scrolled": false
   },
   "outputs": [
    {
     "name": "stdout",
     "output_type": "stream",
     "text": [
      "0\n",
      "1\n",
      "2\n",
      "3\n",
      "4\n",
      "5\n",
      "6\n",
      "7\n",
      "8\n",
      "9\n",
      "10\n",
      "11\n",
      "12\n",
      "13\n",
      "14\n",
      "15\n",
      "16\n",
      "17\n"
     ]
    }
   ],
   "source": [
    "for index_kw,kw in enumerate(keywords):\n",
    "    urlAddress          = basicURL+'%20(%22'+str.replace(kw,' ','%20')+'%22)%20AND%20'+KW_Pathology+KW_Cancer+KW_ImageAnalysis+KW_Dates\n",
    "    #print(urlAddress)\n",
    "    print(index_kw)\n",
    "    with urllib.request.urlopen(urlAddress,  timeout=50) as url:\n",
    "        wholeURL =  url.read().decode('utf-8')\n",
    "\n",
    "        location_init = wholeURL.index('yearCounts')\n",
    "        location_fin  = wholeURL.index('startYear')\n",
    "        years_tokens  = word_tokenize(wholeURL[location_init+14:location_fin-11])\n",
    "        years_tokens2 = [w for w in years_tokens if not w in '[],']\n",
    "        years         = years_tokens2[::2]\n",
    "        num_entries   = years_tokens2[1::2]\n",
    "        \n",
    "        \n",
    "        for index_year, val_year in enumerate(years) :\n",
    "            entries_per_KW[index_kw,round(float(val_year))-(yearsAnalysis[0])] = float(num_entries[index_year])\n"
   ]
  },
  {
   "cell_type": "markdown",
   "metadata": {},
   "source": [
    "The loops will return a matrix with a line per keyword and columns for the years of study."
   ]
  },
  {
   "cell_type": "code",
   "execution_count": 9,
   "metadata": {},
   "outputs": [
    {
     "data": {
      "text/plain": [
       "array([0., 0., 0., 0., 0., 0., 1., 4., 1., 1., 1., 0., 0.])"
      ]
     },
     "execution_count": 9,
     "metadata": {},
     "output_type": "execute_result"
    }
   ],
   "source": [
    "entries_per_KW[0]"
   ]
  },
  {
   "cell_type": "code",
   "execution_count": 10,
   "metadata": {},
   "outputs": [
    {
     "data": {
      "text/plain": [
       "array([0., 0., 0., 0., 0., 0., 0., 0., 0., 3., 2., 4., 0.])"
      ]
     },
     "execution_count": 10,
     "metadata": {},
     "output_type": "execute_result"
    }
   ],
   "source": [
    "entries_per_KW[-1]"
   ]
  },
  {
   "cell_type": "code",
   "execution_count": 11,
   "metadata": {
    "scrolled": true
   },
   "outputs": [
    {
     "data": {
      "image/png": "[encoded data removed]",
      "text/plain": [
       "<Figure size 1224x576 with 1 Axes>"
      ]
     },
     "metadata": {
      "needs_background": "light"
     },
     "output_type": "display_data"
    }
   ],
   "source": [
    "allEntries_KW = entries_per_KW.sum(axis=1)\n",
    "\n",
    "sortedValues = np.sort(allEntries_KW[0:-1])\n",
    "sortedIndex  = np.argsort(allEntries_KW[0:-1])\n",
    "temp =[keywords[i] for i in sortedIndex]\n",
    "\n",
    "\n",
    "fig = plt.figure( figsize=(17, 8))\n",
    "ax  = fig.add_subplot(111)\n",
    "ax.bar(temp[::-1],sortedValues[::-1])\n",
    "ax.tick_params(axis='x', rotation=270, labelsize=18)\n",
    "ax.tick_params(axis='y',  labelsize=18)\n",
    "ax.set_yscale('log')\n",
    "ax.grid()"
   ]
  },
  {
   "cell_type": "code",
   "execution_count": null,
   "metadata": {},
   "outputs": [],
   "source": []
  }
 ],
 "metadata": {
  "kernelspec": {
   "display_name": "Python 3",
   "language": "python",
   "name": "python3"
  },
  "language_info": {
   "codemirror_mode": {
    "name": "ipython",
    "version": 3
   },
   "file_extension": ".py",
   "mimetype": "text/x-python",
   "name": "python",
   "nbconvert_exporter": "python",
   "pygments_lexer": "ipython3",
   "version": "3.8.8"
  }
 },
 "nbformat": 4,
 "nbformat_minor": 2
}
