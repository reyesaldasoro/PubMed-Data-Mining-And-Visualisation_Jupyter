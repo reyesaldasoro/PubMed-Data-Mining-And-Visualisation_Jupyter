{
 "cells": [
  {
   "cell_type": "markdown",
   "metadata": {},
   "source": [
    "### Mine PubMed for Digital and Computational Pathology\n"
   ]
  },
  {
   "cell_type": "markdown",
   "metadata": {},
   "source": [
    "This notebook is a small version of the similarly named notebook, which focused in cancer and other conditions,  but this one is just for Pathology, Digital Pathology and Computational Pathology.\n"
   ]
  },
  {
   "cell_type": "markdown",
   "metadata": {},
   "source": [
    "#### Reference\n",
    "Reyes-Aldasoro CC (2017) The proportion of cancer-related entries in PubMed has increased considerably; is cancer truly “The Emperor of All Maladies”? PLoS ONE 12(3): e0173671. https://doi.org/10.1371/journal.pone.0173671"
   ]
  },
  {
   "cell_type": "markdown",
   "metadata": {},
   "source": [
    "First, import all the things you need to import."
   ]
  },
  {
   "cell_type": "code",
   "execution_count": 7,
   "metadata": {},
   "outputs": [],
   "source": [
    "import pandas as pd\n",
    "import numpy as np\n",
    "import matplotlib.pyplot as plt\n",
    "import urllib.request\n",
    "from scipy import interpolate"
   ]
  },
  {
   "cell_type": "markdown",
   "metadata": {},
   "source": [
    "Then you can define the time of study, that is the years that you will be mining the data base. If you (don't) want to visualise which specific year, comment/uncomment the second line "
   ]
  },
  {
   "cell_type": "code",
   "execution_count": 2,
   "metadata": {},
   "outputs": [],
   "source": [
    "yearsAnalysis = np.arange(1950,2022)\n",
    "#yearsAnalysis"
   ]
  },
  {
   "cell_type": "markdown",
   "metadata": {},
   "source": [
    "Here is where the problem is defined. First we need to define a basic URL. And that will be the address of PubMed with a search term. This give entry to the database MEDLINE of the United States National Library of Medicine (NLM) and its search engine PubMed (https://www.ncbi.nlm.nih.gov/pubmed) have grown to include over 26 million entries: 26,710,394 on the 30 November 2016. \n"
   ]
  },
  {
   "cell_type": "markdown",
   "metadata": {},
   "source": [
    "Then, we will define a series of keywords. In MEDLINE, each entry is indexed with Medical Subject Headings (MeSH) and various field descriptors such as author, date, title, publication type, etc. These fields allow specific searches to be performed in PubMed by restricting the search to one, several or all fields and logical combinations with operators such as AND, OR, NOT are available as well. \n",
    "\n",
    "We will apply two separate restrictions, one will be the year, to obtain only items that were published, say in 1968. To instruct PubMed that we are querying the year, we need to specify this with the term [DP] (date publication) and because we will be going through a browser that does not interpret spaces and other symbols we will code like this:\n",
    "\n"
   ]
  },
  {
   "cell_type": "markdown",
   "metadata": {},
   "source": [
    "yearURL                             = '%22'+str(1968)+'%22%5BDP%5D+';"
   ]
  },
  {
   "cell_type": "markdown",
   "metadata": {},
   "source": [
    "Then we add the actual keywords related to the actual conditions that we want to observe. Let's do this for: **Pathology, Digital Pathology** and **Computational Pathology**."
   ]
  },
  {
   "cell_type": "code",
   "execution_count": 3,
   "metadata": {},
   "outputs": [],
   "source": [
    "# 0\n",
    "#Basic keywords that describe cancer, concatenate\n",
    "basicURL                = 'https://www.ncbi.nlm.nih.gov/pubmed/?term='\n",
    "allF                    = '%5BAll%20Fields%5D' # all fields code\n",
    "\n",
    "\n",
    "PathologyKeywords       =  'AND%20(%22pathology%22)%5BAll%20Fields%5D';\n",
    "DigitalKeywords         =  'AND%20(%22digital%22AND%22pathology%22)%5BAll%20Fields%5D';\n",
    "ComputationalKeywords   =  'AND%20(%22computational%22AND%22pathology%22)%5BAll%20Fields%5D';\n",
    "\n",
    "# 8 all cases\n",
    "generalKeywords         = '';"
   ]
  },
  {
   "cell_type": "markdown",
   "metadata": {},
   "source": [
    "Notice the last keyword, which is actually blank. This is because we want also to retrieve all entries of a given year. Next, we concatenate all the keywords into a vector (or matrix, or whichever name is the correct in Python)."
   ]
  },
  {
   "cell_type": "code",
   "execution_count": 4,
   "metadata": {},
   "outputs": [],
   "source": [
    "keywords=[PathologyKeywords,DigitalKeywords,ComputationalKeywords,generalKeywords]\n"
   ]
  },
  {
   "cell_type": "markdown",
   "metadata": {},
   "source": [
    "We initialise a matrix (idem about naming) where we will record the entries of each condition per year."
   ]
  },
  {
   "cell_type": "code",
   "execution_count": 5,
   "metadata": {},
   "outputs": [],
   "source": [
    "EntriesPerDisease = np.zeros((len(keywords),len(yearsAnalysis))) # disease (and total) and year\n"
   ]
  },
  {
   "cell_type": "markdown",
   "metadata": {},
   "source": [
    "Now we iterate. To find the actual number of entries, we look for the word **resultcount** and grab the number that is in between  **=** and **/**."
   ]
  },
  {
   "cell_type": "code",
   "execution_count": 6,
   "metadata": {
    "scrolled": false
   },
   "outputs": [
    {
     "name": "stdout",
     "output_type": "stream",
     "text": [
      "1950\n",
      "1951\n",
      "Error downloading:1951\n",
      "1952\n",
      "1953\n",
      "1954\n",
      "1955\n",
      "1956\n",
      "1957\n",
      "1958\n",
      "1959\n",
      "1960\n",
      "1961\n",
      "1962\n",
      "1963\n",
      "Error downloading:1963\n",
      "1964\n",
      "1965\n",
      "1966\n",
      "1967\n",
      "1968\n",
      "1969\n",
      "1970\n",
      "1971\n",
      "1972\n",
      "1973\n",
      "1974\n",
      "1975\n",
      "1976\n",
      "1977\n",
      "Error downloading:1977\n",
      "1978\n",
      "Error downloading:1978\n",
      "1979\n",
      "Error downloading:1979\n",
      "1980\n",
      "Error downloading:1980\n",
      "1981\n",
      "1982\n",
      "Error downloading:1982\n",
      "1983\n",
      "1984\n",
      "1985\n",
      "1986\n",
      "1987\n",
      "1988\n",
      "1989\n",
      "Error downloading:1989\n",
      "1990\n",
      "Error downloading:1990\n",
      "1991\n",
      "1992\n",
      "1993\n",
      "1994\n",
      "1995\n",
      "1996\n",
      "1997\n",
      "1998\n",
      "1999\n",
      "2000\n",
      "2001\n",
      "2002\n",
      "2003\n",
      "2004\n",
      "2005\n",
      "2006\n",
      "2007\n",
      "2008\n",
      "2009\n",
      "2010\n",
      "2011\n",
      "2012\n",
      "2013\n",
      "2014\n",
      "2015\n",
      "2016\n",
      "2017\n",
      "2018\n",
      "2019\n",
      "2020\n",
      "2021\n"
     ]
    }
   ],
   "source": [
    "# iterate over the years and the keywords\n",
    "#for x in keywords:\n",
    "for i in range(len(yearsAnalysis)):\n",
    "    # Define the basic link that are going to be read from pubmed\n",
    "    # add the search term (i.e. ? term) and the delimiters \n",
    "    #    %27  correspond to ' and %22 corespond to \"\n",
    "    # link = 'https://pubmed.ncbi.nlm.nih.gov/?term=%27'+x+'%27'\n",
    "    \n",
    "    year                                = yearsAnalysis[i];\n",
    "    \n",
    "    \n",
    "    \n",
    "    print(year)\n",
    "    #yearURL                             = 'AND+%22'+str(year)+'%22%5BDP%5D+';\n",
    "    yearURL                             = '%22'+str(year)+'%22%5BDP%5D+';\n",
    "    for j in range(len(keywords)):\n",
    "        # This is the code to select PubMed entries combined with year\n",
    "        #urlAddress                          = basicURL+yearURL+keywords[j]+'%27'+allF\n",
    "        urlAddress                          = basicURL+yearURL+keywords[j]\n",
    "         \n",
    "        # If you want to see the actual url that will be queried, \n",
    "        # uncomment the following line\n",
    "        #print(urlAddress)\n",
    "        \n",
    "        # read from the link, it is important to use the try as\n",
    "        # sometimes there are time outs,\n",
    "        try: \n",
    "            with urllib.request.urlopen(urlAddress) as url:\n",
    "               #f = urllib.request.urlopen.read(link)\n",
    "              wholeURL = url.read().decode('utf-8')\n",
    "            # Once the wholeURL is downloaded, search for the place where the total\n",
    "            # number of entries in PubMed exist, this can be done with 2 codes, \n",
    "            # one is totalResults and the other is resultcount. This changed recently with \n",
    "            # the new page results from PubMed\n",
    "\n",
    "            # find the code\n",
    "            location_init = wholeURL.index('resultcount')\n",
    "            # detect the limits of the result number itself, use = and / to limit\n",
    "            location_2    = wholeURL.find('=',location_init,location_init+30)\n",
    "            location_3    = wholeURL.find('/',location_2+1,location_2+30)\n",
    "            # the actual number of entries\n",
    "    \n",
    "            EntriesPerDisease[j,i] = wholeURL[location_2+2:location_3-2]\n",
    "        except:\n",
    "            EntriesPerDisease[j,i] = 0\n",
    "            print('Error downloading:'+ str(year))\n",
    "            "
   ]
  },
  {
   "cell_type": "markdown",
   "metadata": {},
   "source": [
    "You can remove the years by commenting the line \n",
    "\n",
    " print(year).\n",
    " \n",
    "But when processes take long, sometimes it is useful to know the progress. Similarly, you can uncomment the lines below to find out the url address, the whole url (i.e. the webpage reported by PubMed) and the number of entries of a given year."
   ]
  },
  {
   "cell_type": "code",
   "execution_count": 7,
   "metadata": {},
   "outputs": [],
   "source": [
    " # wholeURL[location_2+2:location_3-2]  #this is the number of publications per year with keyword"
   ]
  },
  {
   "cell_type": "code",
   "execution_count": 8,
   "metadata": {},
   "outputs": [],
   "source": [
    "# urlAddress  #actual URL that is going to be queried"
   ]
  },
  {
   "cell_type": "code",
   "execution_count": 9,
   "metadata": {
    "scrolled": false
   },
   "outputs": [],
   "source": [
    "# wholeURL # this is the whole URL (rather large...)"
   ]
  },
  {
   "cell_type": "code",
   "execution_count": 20,
   "metadata": {},
   "outputs": [
    {
     "data": {
      "text/plain": [
       "array([  85792.,  103821.,  108182.,  108924.,  105942.,  108562.,\n",
       "        107016.,  111529.,  109469.,  110000.,  112222.,  120180.,\n",
       "        125694.,  141540.,  162110.,  176737.,  180185.,  192078.,\n",
       "        208157.,  215346.,  219426.,  223609.,  227869.,  231126.,\n",
       "        235110.,  249192.,  254957.,  262192.,  272570.,  282078.,\n",
       "        280656.,  283639.,  295773.,  309532.,  318252.,  335344.,\n",
       "        349712.,  367976.,  387028.,  402773.,  410871.,  413199.,\n",
       "        417998.,  427530.,  438248.,  449189.,  458716.,  456849.,\n",
       "        474698.,  493883.,  532541.,  547576.,  565386.,  594544.,\n",
       "        639715.,  700342.,  749935.,  786617.,  837043.,  877488.,\n",
       "        941973., 1020333., 1089518., 1149670., 1205292., 1257390.,\n",
       "       1284509., 1302981., 1345380., 1407935., 1625358., 1559177.])"
      ]
     },
     "execution_count": 20,
     "metadata": {},
     "output_type": "execute_result"
    }
   ],
   "source": [
    "EntriesPerDisease[3,:]"
   ]
  },
  {
   "cell_type": "markdown",
   "metadata": {},
   "source": [
    "Once the iteration has finished, what is interesting is to display the numbers as a graph. This is the raw numbers, i.e. absolute values of each query."
   ]
  },
  {
   "cell_type": "code",
   "execution_count": 28,
   "metadata": {
    "scrolled": false
   },
   "outputs": [
    {
     "data": {
      "image/png": "[encoded data removed]",
      "text/plain": [
       "<Figure size 432x288 with 1 Axes>"
      ]
     },
     "metadata": {
      "needs_background": "light"
     },
     "output_type": "display_data"
    }
   ],
   "source": [
    "# Display the absolute number of entries, \n",
    "fig = plt.figure()\n",
    "ax = fig.add_subplot(111)\n",
    "\n",
    "plt.plot(EntriesPerDisease.T, linestyle='-', marker='.', color='b',markersize = 2)\n",
    "#plt.xlabel(keywords)\n",
    "plt.xlabel('years')\n",
    "plt.ylabel('Abs. Entries')\n",
    "#ax.xaxis.set_ticks([0,70,10])\n",
    "#ax.xaxis.set_ticklabels(keywords)\n",
    "tickValues =np.arange(1940,2021,10)\n",
    "#ax.xaxis.set_ticklabels((tickValues))\n",
    "ax.tick_params(axis='x', rotation=90)\n",
    "plt.grid()"
   ]
  },
  {
   "cell_type": "markdown",
   "metadata": {},
   "source": [
    "What we can see of this graph is that there is a constant growth of all cases, except for the last point, but since I am running this in July 2020, this will only include the entries of half of the year. \n",
    "\n",
    "More interesting than these absolute numbers are the relative ones, i.e. * how many entries of 1950 correspond to each keyword.*\n",
    "\n",
    "Let's divide each case per the total:"
   ]
  },
  {
   "cell_type": "code",
   "execution_count": 27,
   "metadata": {
    "scrolled": true
   },
   "outputs": [
    {
     "data": {
      "image/png": "[encoded data removed]",
      "text/plain": [
       "<Figure size 648x288 with 1 Axes>"
      ]
     },
     "metadata": {
      "needs_background": "light"
     },
     "output_type": "display_data"
    }
   ],
   "source": [
    "# Display all entries as a proportion of the total number of entries of the year\n",
    "\n",
    "fig = plt.figure( figsize=(9, 4))\n",
    "ax = fig.add_subplot(111)\n",
    "plt.plot(yearsAnalysis,EntriesPerDisease[0,:]/EntriesPerDisease[3,:],label=\"Pathology\", linestyle='-',linewidth=4,   marker='', color='k',markersize = 5)\n",
    "plt.plot(yearsAnalysis,EntriesPerDisease[1,:]/EntriesPerDisease[3,:],label=\"Digital Pathology\", linestyle='-',linewidth=2,  marker='', color='b',markersize = 5)\n",
    "plt.plot(yearsAnalysis,EntriesPerDisease[2,:]/EntriesPerDisease[3,:],label=\"Computational Pathology\",  linestyle='-', marker='', color='g',markersize = 5)\n",
    "\n",
    "\n",
    "#ax.xaxis.set_ticklabels((tickValues))\n",
    "plt.xlabel('years')\n",
    "plt.ylabel('Rel. Entries')\n",
    "#ax.xaxis.set_ticks([0,70,10])\n",
    "#ax.xaxis.set_ticklabels(keywords)\n",
    "tickValues =np.arange(1940,2021,10)\n",
    "#ax.xaxis.set_ticklabels((tickValues))\n",
    "ax.tick_params(axis='x', rotation=90)\n",
    "plt.legend(loc=\"upper left\")\n",
    "plt.grid()\n"
   ]
  },
  {
   "cell_type": "markdown",
   "metadata": {},
   "source": [
    "Here is where things start getting interesting. **Pathology** has been steadily growing from around 1% to around 15%. This is as a proportion of all entries. This is in line with the increase in the publications related to **cancer**. To appreciate the growth of the digital and computational entries, let's display again but without pathology."
   ]
  },
  {
   "cell_type": "code",
   "execution_count": 26,
   "metadata": {},
   "outputs": [
    {
     "data": {
      "image/png": "[encoded data removed]",
      "text/plain": [
       "<Figure size 648x288 with 1 Axes>"
      ]
     },
     "metadata": {
      "needs_background": "light"
     },
     "output_type": "display_data"
    }
   ],
   "source": [
    "# Repeat but remove pathology\n",
    "fig = plt.figure( figsize=(9, 4))\n",
    "ax = fig.add_subplot(111)\n",
    "#plt.plot(yearsAnalysis,EntriesPerDisease[0,:]/EntriesPerDisease[3,:],label=\"Pathology\", linestyle='-',linewidth=4,   marker='', color='k',markersize = 5)\n",
    "plt.plot(yearsAnalysis,EntriesPerDisease[1,:]/EntriesPerDisease[3,:],label=\"Digital Pathology\", linestyle='-',linewidth=2,  marker='.', color='b',markersize = 5)\n",
    "plt.plot(yearsAnalysis,EntriesPerDisease[2,:]/EntriesPerDisease[3,:],label=\"Computational Pathology\",  linestyle='-', marker='.', color='g',markersize = 5)\n",
    "\n",
    "#ax.xaxis.set_ticklabels((tickValues))\n",
    "plt.xlabel('years')\n",
    "plt.ylabel('Rel. Entries')\n",
    "\n",
    "tickValues =np.arange(1940,2021,10)\n",
    "#ax.xaxis.set_ticklabels((tickValues))\n",
    "ax.tick_params(axis='x', rotation=90)\n",
    "plt.legend(loc=\"upper center\")\n",
    "plt.grid()"
   ]
  },
  {
   "cell_type": "markdown",
   "metadata": {},
   "source": [
    "As a proportion of all entries in PubMed (more than 27 million in 2020) both cases of Digital and Computational Pathology have grown. Digital started growing in the 1980, related to telemedicine and computational has a more recent increase, related to the processing more than just the storage or digitalising of the images. (The drop in the last year is due to this being run in month halfway through the year.)\n",
    "\n",
    "\n",
    "\n"
   ]
  },
  {
   "cell_type": "code",
   "execution_count": null,
   "metadata": {},
   "outputs": [],
   "source": []
  }
 ],
 "metadata": {
  "kernelspec": {
   "display_name": "Python 3",
   "language": "python",
   "name": "python3"
  },
  "language_info": {
   "codemirror_mode": {
    "name": "ipython",
    "version": 3
   },
   "file_extension": ".py",
   "mimetype": "text/x-python",
   "name": "python",
   "nbconvert_exporter": "python",
   "pygments_lexer": "ipython3",
   "version": "3.8.8"
  }
 },
 "nbformat": 4,
 "nbformat_minor": 2
}
